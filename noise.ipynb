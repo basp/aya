{
 "cells": [
  {
   "cell_type": "code",
   "execution_count": 122,
   "metadata": {
    "collapsed": true
   },
   "outputs": [],
   "source": [
    "import numpy as np\n",
    "import matplotlib.pyplot as plt\n",
    "import noise\n",
    "%matplotlib inline"
   ]
  },
  {
   "cell_type": "markdown",
   "metadata": {},
   "source": [
    "### linear interpolation\n",
    "We need a function ${f}$ that, given values ${v_0}$ and ${v_1}$ and some interval ${t}$ where $0 \\le {t} \\le 1$, returns an *interpolated* value between ${v_0}$ and ${v_1}$.\n",
    "\n",
    "The best way to start is with [linear interpolation](https://en.wikipedia.org/wiki/Linear_interpolation) and that's what the `lerp` function does."
   ]
  },
  {
   "cell_type": "markdown",
   "metadata": {},
   "source": [
    "Let's assume we have to values ${v_0}$ and ${v_1}$:"
   ]
  },
  {
   "cell_type": "code",
   "execution_count": 106,
   "metadata": {
    "collapsed": false
   },
   "outputs": [],
   "source": [
    "v0 = 2\n",
    "v1 = 5"
   ]
  },
  {
   "cell_type": "code",
   "execution_count": 123,
   "metadata": {
    "collapsed": false
   },
   "outputs": [
    {
     "data": {
      "text/plain": [
       "[<matplotlib.lines.Line2D at 0xb1dfe25240>]"
      ]
     },
     "execution_count": 123,
     "metadata": {},
     "output_type": "execute_result"
    },
    {
     "data": {
      "image/png": "[encoded data removed]",
      "text/plain": [
       "<matplotlib.figure.Figure at 0xb1dfe255f8>"
      ]
     },
     "metadata": {},
     "output_type": "display_data"
    }
   ],
   "source": [
    "plt.plot([0, 1], [2, 5], '--')\n",
    "t = 1.0 / 3\n",
    "vt = noise.lerp(2, 5, t)\n",
    "plt.plot(t, vt, 'ro')"
   ]
  },
  {
   "cell_type": "markdown",
   "metadata": {},
   "source": [
    "### smoothstep"
   ]
  },
  {
   "cell_type": "code",
   "execution_count": 124,
   "metadata": {
    "collapsed": false
   },
   "outputs": [
    {
     "data": {
      "text/plain": [
       "<matplotlib.legend.Legend at 0xb1e11cfcc0>"
      ]
     },
     "execution_count": 124,
     "metadata": {},
     "output_type": "execute_result"
    },
    {
     "data": {
      "image/png": "[encoded data removed]",
      "text/plain": [
       "<matplotlib.figure.Figure at 0xb1dfbb2048>"
      ]
     },
     "metadata": {},
     "output_type": "display_data"
    }
   ],
   "source": [
    "x = np.linspace(0, 1.0)\n",
    "y1 = noise.ss3(x)\n",
    "y2 = noise.ss5(x)\n",
    "plt.plot(x, y1, label=\"smooth\")\n",
    "plt.plot(x, y2, label=\"smoother\")\n",
    "plt.legend(loc=2)"
   ]
  },
  {
   "cell_type": "markdown",
   "metadata": {},
   "source": [
    "### vectors"
   ]
  },
  {
   "cell_type": "code",
   "execution_count": 43,
   "metadata": {
    "collapsed": false
   },
   "outputs": [],
   "source": [
    "class Vector:\n",
    "    def __init__(self, *components):\n",
    "        self.components = np.array(components)\n",
    "        \n",
    "    def mag(self):\n",
    "        return np.sqrt(sum(self.components**2))\n",
    "        \n",
    "    def __len__(self):\n",
    "        return len(self.components)\n",
    "    \n",
    "    def __iter__(self):\n",
    "        for c in self.components:\n",
    "            yield c"
   ]
  },
  {
   "cell_type": "markdown",
   "metadata": {},
   "source": [
    "### seeding"
   ]
  },
  {
   "cell_type": "code",
   "execution_count": 55,
   "metadata": {
    "collapsed": false
   },
   "outputs": [
    {
     "data": {
      "text/plain": [
       "array([[[[ 0.91200336,  0.85159858],\n",
       "         [ 0.81503769,  0.46688876]],\n",
       "\n",
       "        [[ 0.98674254,  0.91433932],\n",
       "         [ 0.60109046,  0.31178396]],\n",
       "\n",
       "        [[ 0.43478428,  0.64746049],\n",
       "         [ 0.71093305,  0.51324364]]],\n",
       "\n",
       "\n",
       "       [[[ 0.09238   ,  0.84061031],\n",
       "         [ 0.5824398 ,  0.715719  ]],\n",
       "\n",
       "        [[ 0.90345006,  0.68416411],\n",
       "         [ 0.11134773,  0.39978188]],\n",
       "\n",
       "        [[ 0.7677543 ,  0.09286739],\n",
       "         [ 0.61144014,  0.07350348]]]])"
      ]
     },
     "execution_count": 55,
     "metadata": {},
     "output_type": "execute_result"
    }
   ],
   "source": [
    "np.random.ranf((2,3,2,2)) # seed in n-dimensions"
   ]
  },
  {
   "cell_type": "markdown",
   "metadata": {},
   "source": [
    "### noise field"
   ]
  },
  {
   "cell_type": "markdown",
   "metadata": {},
   "source": [
    "For instance, to create a hypercube of noise we could do something like this:"
   ]
  },
  {
   "cell_type": "code",
   "execution_count": 126,
   "metadata": {
    "collapsed": false
   },
   "outputs": [],
   "source": [
    "c4 = noise.Field(d=(8,8,8,8), seed = 5)"
   ]
  },
  {
   "cell_type": "markdown",
   "metadata": {},
   "source": [
    "We can plot any course through this field, for example:"
   ]
  },
  {
   "cell_type": "code",
   "execution_count": 127,
   "metadata": {
    "collapsed": false,
    "scrolled": true
   },
   "outputs": [
    {
     "data": {
      "text/plain": [
       "[<matplotlib.lines.Line2D at 0xb1e11b6390>]"
      ]
     },
     "execution_count": 127,
     "metadata": {},
     "output_type": "execute_result"
    },
    {
     "data": {
      "image/png": "[encoded data removed]",
      "text/plain": [
       "<matplotlib.figure.Figure at 0xb1e11b64a8>"
      ]
     },
     "metadata": {},
     "output_type": "display_data"
    }
   ],
   "source": [
    "q = np.arange(0, 8)\n",
    "x = [c4(x, 0, 0, 0) for x in q]\n",
    "y = [c4(0, y, 0, 0) for y in q]\n",
    "plt.plot(q, x, 'bo')\n",
    "plt.plot(q, y, 'ro')"
   ]
  },
  {
   "cell_type": "code",
   "execution_count": null,
   "metadata": {
    "collapsed": true
   },
   "outputs": [],
   "source": []
  }
 ],
 "metadata": {
  "kernelspec": {
   "display_name": "Python 3",
   "language": "python",
   "name": "python3"
  },
  "language_info": {
   "codemirror_mode": {
    "name": "ipython",
    "version": 3
   },
   "file_extension": ".py",
   "mimetype": "text/x-python",
   "name": "python",
   "nbconvert_exporter": "python",
   "pygments_lexer": "ipython3",
   "version": "3.5.0"
  }
 },
 "nbformat": 4,
 "nbformat_minor": 0
}
