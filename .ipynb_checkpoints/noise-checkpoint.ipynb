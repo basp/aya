{
 "cells": [
  {
   "cell_type": "code",
   "execution_count": 2,
   "metadata": {
    "collapsed": true
   },
   "outputs": [],
   "source": [
    "import numpy as np\n",
    "import matplotlib.pyplot as plt\n",
    "import noise\n",
    "%matplotlib inline"
   ]
  },
  {
   "cell_type": "markdown",
   "metadata": {},
   "source": [
    "### linear interpolation\n",
    "We need a function ${f}$ that, given values ${v_0}$ and ${v_1}$ and some interval ${t}$ where $0 \\le {t} \\le 1$, returns an *interpolated* value between ${v_0}$ and ${v_1}$.\n",
    "\n",
    "The best way to start is with [linear interpolation](https://en.wikipedia.org/wiki/Linear_interpolation) and that's what the `lerp` function does."
   ]
  },
  {
   "cell_type": "markdown",
   "metadata": {},
   "source": [
    "Let's assume we have to values ${v_0}$ and ${v_1}$:"
   ]
  },
  {
   "cell_type": "code",
   "execution_count": 3,
   "metadata": {
    "collapsed": false
   },
   "outputs": [],
   "source": [
    "v0 = 2\n",
    "v1 = 5"
   ]
  },
  {
   "cell_type": "code",
   "execution_count": 4,
   "metadata": {
    "collapsed": false
   },
   "outputs": [
    {
     "data": {
      "text/plain": [
       "[<matplotlib.lines.Line2D at 0x5d15c7be10>]"
      ]
     },
     "execution_count": 4,
     "metadata": {},
     "output_type": "execute_result"
    },
    {
     "data": {
      "image/png": "[encoded data removed]",
      "text/plain": [
       "<matplotlib.figure.Figure at 0x5d15c7be48>"
      ]
     },
     "metadata": {},
     "output_type": "display_data"
    }
   ],
   "source": [
    "plt.plot([0, 1], [2, 5], '--')\n",
    "t = 1.0 / 3\n",
    "vt = noise.lerp(2, 5, t)\n",
    "plt.plot(t, vt, 'ro')"
   ]
  },
  {
   "cell_type": "markdown",
   "metadata": {},
   "source": [
    "### smoothstep"
   ]
  },
  {
   "cell_type": "code",
   "execution_count": 5,
   "metadata": {
    "collapsed": false
   },
   "outputs": [
    {
     "data": {
      "text/plain": [
       "<matplotlib.legend.Legend at 0x5d1666c7f0>"
      ]
     },
     "execution_count": 5,
     "metadata": {},
     "output_type": "execute_result"
    },
    {
     "data": {
      "image/png": "[encoded data removed]",
      "text/plain": [
       "<matplotlib.figure.Figure at 0x5d15db3668>"
      ]
     },
     "metadata": {},
     "output_type": "display_data"
    }
   ],
   "source": [
    "x = np.linspace(0, 1.0)\n",
    "y1 = noise.ss3(x)\n",
    "y2 = noise.ss5(x)\n",
    "plt.plot(x, y1, label=\"smooth\")\n",
    "plt.plot(x, y2, label=\"smoother\")\n",
    "plt.legend(loc=2)"
   ]
  },
  {
   "cell_type": "markdown",
   "metadata": {},
   "source": [
    "### vectors"
   ]
  },
  {
   "cell_type": "code",
   "execution_count": 6,
   "metadata": {
    "collapsed": false
   },
   "outputs": [],
   "source": [
    "class Vector:\n",
    "    def __init__(self, *components):\n",
    "        self.components = np.array(components)\n",
    "        \n",
    "    def mag(self):\n",
    "        return np.sqrt(sum(self.components**2))\n",
    "        \n",
    "    def __len__(self):\n",
    "        return len(self.components)\n",
    "    \n",
    "    def __iter__(self):\n",
    "        for c in self.components:\n",
    "            yield c"
   ]
  },
  {
   "cell_type": "markdown",
   "metadata": {},
   "source": [
    "### seeding"
   ]
  },
  {
   "cell_type": "code",
   "execution_count": 7,
   "metadata": {
    "collapsed": false
   },
   "outputs": [
    {
     "data": {
      "text/plain": [
       "array([[[[ 0.82454495,  0.5056324 ],\n",
       "         [ 0.38243413,  0.74496168]],\n",
       "\n",
       "        [[ 0.31020864,  0.22071665],\n",
       "         [ 0.39598964,  0.51050103]],\n",
       "\n",
       "        [[ 0.49226619,  0.37940417],\n",
       "         [ 0.59154809,  0.50183795]]],\n",
       "\n",
       "\n",
       "       [[[ 0.85581598,  0.46303649],\n",
       "         [ 0.62593009,  0.48541888]],\n",
       "\n",
       "        [[ 0.73411951,  0.22983113],\n",
       "         [ 0.67350969,  0.74418972]],\n",
       "\n",
       "        [[ 0.52211386,  0.88720519],\n",
       "         [ 0.20369279,  0.4762174 ]]]])"
      ]
     },
     "execution_count": 7,
     "metadata": {},
     "output_type": "execute_result"
    }
   ],
   "source": [
    "np.random.ranf((2,3,2,2)) # seed in n-dimensions"
   ]
  },
  {
   "cell_type": "markdown",
   "metadata": {},
   "source": [
    "### noise field"
   ]
  },
  {
   "cell_type": "markdown",
   "metadata": {},
   "source": [
    "For instance, to create a hypercube of noise we could do something like this:"
   ]
  },
  {
   "cell_type": "code",
   "execution_count": 8,
   "metadata": {
    "collapsed": false
   },
   "outputs": [],
   "source": [
    "c4 = noise.Field(d=(8,8,8,8), seed = 5)"
   ]
  },
  {
   "cell_type": "markdown",
   "metadata": {},
   "source": [
    "We can plot any course through this field, for example:"
   ]
  },
  {
   "cell_type": "code",
   "execution_count": 9,
   "metadata": {
    "collapsed": false,
    "scrolled": true
   },
   "outputs": [
    {
     "data": {
      "text/plain": [
       "[<matplotlib.lines.Line2D at 0x5d15da9c50>]"
      ]
     },
     "execution_count": 9,
     "metadata": {},
     "output_type": "execute_result"
    },
    {
     "data": {
      "image/png": "[encoded data removed]",
      "text/plain": [
       "<matplotlib.figure.Figure at 0x5d1666cfd0>"
      ]
     },
     "metadata": {},
     "output_type": "display_data"
    }
   ],
   "source": [
    "q = np.arange(0, 8)\n",
    "x = [c4(x, 0, 0, 0) for x in q]\n",
    "y = [c4(0, y, 0, 0) for y in q]\n",
    "plt.plot(q, x, 'bo')\n",
    "plt.plot(q, y, 'ro')"
   ]
  },
  {
   "cell_type": "markdown",
   "metadata": {
    "collapsed": true
   },
   "source": [
    "We *could* render a graph but that would be like cheating. We would be using the `matplotlib` linear interpolation instead of our own:"
   ]
  },
  {
   "cell_type": "code",
   "execution_count": 17,
   "metadata": {
    "collapsed": false
   },
   "outputs": [
    {
     "data": {
      "text/plain": [
       "[<matplotlib.lines.Line2D at 0x5d0f155b38>]"
      ]
     },
     "execution_count": 17,
     "metadata": {},
     "output_type": "execute_result"
    },
    {
     "data": {
      "image/png": "[encoded data removed]",
      "text/plain": [
       "<matplotlib.figure.Figure at 0x5d0f102710>"
      ]
     },
     "metadata": {},
     "output_type": "display_data"
    }
   ],
   "source": [
    "# a one-dimensional noise field of 8 samples\n",
    "c1 = noise.Field(d=(8,))\n",
    "x = np.linspace(0, 7, 8)\n",
    "y = [c1(x) for x in x]\n",
    "# this will use matplotlib interpolation and not ours\n",
    "plt.plot(x, y)"
   ]
  },
  {
   "cell_type": "markdown",
   "metadata": {},
   "source": [
    "We can do better though by using one of the [smoothstep](https://en.wikipedia.org/wiki/Smoothstep) functions. Instead of calculating ${v_t}$ directly we can do some tricks on ${t}$ to modify the outcome. If we calculate ${y} = f(c(t))$ instead we can get much better results. Here, ${c}$ is a curve such as the smoothstep `ss3` or `ss5` functions."
   ]
  },
  {
   "cell_type": "markdown",
   "metadata": {},
   "source": [
    "For convience let's start with the `ss3` function and plot it so we know what it looks like:"
   ]
  },
  {
   "cell_type": "code",
   "execution_count": 18,
   "metadata": {
    "collapsed": false
   },
   "outputs": [
    {
     "data": {
      "text/plain": [
       "[<matplotlib.lines.Line2D at 0x5d0f1b74a8>]"
      ]
     },
     "execution_count": 18,
     "metadata": {},
     "output_type": "execute_result"
    },
    {
     "data": {
      "image/png": "[encoded data removed]",
      "text/plain": [
       "<matplotlib.figure.Figure at 0x5d0f10a860>"
      ]
     },
     "metadata": {},
     "output_type": "display_data"
    }
   ],
   "source": [
    "x = np.linspace(0, 1.0, 100)\n",
    "y = noise.ss3(x)\n",
    "plt.plot(x, y)"
   ]
  },
  {
   "cell_type": "markdown",
   "metadata": {},
   "source": [
    "Basically a curve is just $y = f(x)$ but we need ${f}$ so that it operates in the range $0 \\le x \\le 1$ and $0 \\le y \\le 1$.\n",
    "\n",
    "We could just use a `sin` or `cos` too for a curve function. If we would plot $\\cos$ for $0 \\le x \\le 2\\pi$:"
   ]
  },
  {
   "cell_type": "code",
   "execution_count": 20,
   "metadata": {
    "collapsed": false
   },
   "outputs": [
    {
     "data": {
      "text/plain": [
       "[<matplotlib.lines.Line2D at 0x5d0f224ac8>]"
      ]
     },
     "execution_count": 20,
     "metadata": {},
     "output_type": "execute_result"
    },
    {
     "data": {
      "image/png": "[encoded data removed]",
      "text/plain": [
       "<matplotlib.figure.Figure at 0x5d0f18ca20>"
      ]
     },
     "metadata": {},
     "output_type": "display_data"
    }
   ],
   "source": [
    "x = np.linspace(0, 2*np.pi, 100)\n",
    "y = np.cos(x)\n",
    "plt.plot(x, y)"
   ]
  },
  {
   "cell_type": "markdown",
   "metadata": {},
   "source": [
    "We can see that it has some curvature in it. We can exploit this by zooming in on the $0 \\le x \\le \\pi$ range. Math tells us the valley of the function is at $\\pi$ which seems appropriate for our needs. Let's plot this."
   ]
  },
  {
   "cell_type": "code",
   "execution_count": 24,
   "metadata": {
    "collapsed": false
   },
   "outputs": [
    {
     "data": {
      "text/plain": [
       "[<matplotlib.lines.Line2D at 0x5d0f33e400>]"
      ]
     },
     "execution_count": 24,
     "metadata": {},
     "output_type": "execute_result"
    },
    {
     "data": {
      "image/png": "[encoded data removed]",
      "text/plain": [
       "<matplotlib.figure.Figure at 0x5d0f307b00>"
      ]
     },
     "metadata": {},
     "output_type": "display_data"
    }
   ],
   "source": [
    "x = np.linspace(0, np.pi, 100)\n",
    "y = np.cos(x)\n",
    "plt.plot(x, y)"
   ]
  },
  {
   "cell_type": "markdown",
   "metadata": {},
   "source": [
    "Much better but we have one problem, the curve runs the wrong way. We can easily fix this though. \n",
    "\n",
    "First we see that the *range* of the function is $-1 \\le y \\le 1$ so ${y}$ runs from `-1` to `+1`. At ${x_0}$ we have $\\cos(0) = 1$ and at ${x_1}$ we have $\\cos(\\pi) = -1.0$ with a nice smooth curve in between.\n",
    "\n",
    "We can invert the function easily by substracting from zero it seems so that $y = 0 - \\cos(x)$."
   ]
  },
  {
   "cell_type": "code",
   "execution_count": 25,
   "metadata": {
    "collapsed": false
   },
   "outputs": [
    {
     "data": {
      "text/plain": [
       "[<matplotlib.lines.Line2D at 0x5d0f39bef0>]"
      ]
     },
     "execution_count": 25,
     "metadata": {},
     "output_type": "execute_result"
    },
    {
     "data": {
      "image/png": "[encoded data removed]",
      "text/plain": [
       "<matplotlib.figure.Figure at 0x5d0f349c88>"
      ]
     },
     "metadata": {},
     "output_type": "display_data"
    }
   ],
   "source": [
    "x = np.linspace(0, np.pi, 100)\n",
    "y = 0 - np.cos(x)\n",
    "plt.plot(x, y)"
   ]
  },
  {
   "cell_type": "markdown",
   "metadata": {},
   "source": [
    "Now the curve is the right way but not in the right *range* yet. We want ${y}$ to be in the range of $0 \\le y \\le 1$ but now it's in $-1 \\le y \\le 1$.\n",
    "\n",
    "We could start by adding `1` to the outcome:"
   ]
  },
  {
   "cell_type": "code",
   "execution_count": 26,
   "metadata": {
    "collapsed": false
   },
   "outputs": [
    {
     "data": {
      "text/plain": [
       "[<matplotlib.lines.Line2D at 0x5d0f3ffc88>]"
      ]
     },
     "execution_count": 26,
     "metadata": {},
     "output_type": "execute_result"
    },
    {
     "data": {
      "image/png": "[encoded data removed]",
      "text/plain": [
       "<matplotlib.figure.Figure at 0x5d0f3790b8>"
      ]
     },
     "metadata": {},
     "output_type": "display_data"
    }
   ],
   "source": [
    "x = np.linspace(0, np.pi, 100)\n",
    "y = 0 - np.cos(x) + 1\n",
    "plt.plot(x, y)"
   ]
  },
  {
   "cell_type": "markdown",
   "metadata": {},
   "source": [
    "By doing this we basically shifted the whole thing one unit up along the ${y}$ axis but now ${y}$ is in the range of $0 \\le y \\le 2.0$ which is slightly better but still not good.\n",
    "\n",
    "What we want at this point is to *flatten* or *dampen* the curve somewhat so it operates in the right right range. For this we use *multiplication* in order to fit it in that range. In this case $v_{min} = 0$ and $v_{max} = 2$ and we need to get it to where $v_{min} = 0$ and $v_{max} = 1$.\n",
    "\n",
    "The easiest way is to multiply the whone thing by half:"
   ]
  },
  {
   "cell_type": "code",
   "execution_count": 30,
   "metadata": {
    "collapsed": false
   },
   "outputs": [
    {
     "data": {
      "text/plain": [
       "[<matplotlib.lines.Line2D at 0x5d1126c630>]"
      ]
     },
     "execution_count": 30,
     "metadata": {},
     "output_type": "execute_result"
    },
    {
     "data": {
      "image/png": "[encoded data removed]",
      "text/plain": [
       "<matplotlib.figure.Figure at 0x5d1121b438>"
      ]
     },
     "metadata": {},
     "output_type": "display_data"
    }
   ],
   "source": [
    "x = np.linspace(0, np.pi, 100)\n",
    "y = 0.5 * (0 - np.cos(x) + 1)\n",
    "plt.plot(x, y)"
   ]
  },
  {
   "cell_type": "markdown",
   "metadata": {},
   "source": [
    "And there we have an pretty good smoothing function that is basically equivalent to using the `noise.ss3` function. One problem though, it operates in the realm where $0 \\le x \\le \\pi$ and that's not very convenient. We kinda want it to be in the realm where $0 \\le x \\le 1$ instead."
   ]
  },
  {
   "cell_type": "code",
   "execution_count": null,
   "metadata": {
    "collapsed": true
   },
   "outputs": [],
   "source": []
  }
 ],
 "metadata": {
  "kernelspec": {
   "display_name": "Python 3",
   "language": "python",
   "name": "python3"
  },
  "language_info": {
   "codemirror_mode": {
    "name": "ipython",
    "version": 3
   },
   "file_extension": ".py",
   "mimetype": "text/x-python",
   "name": "python",
   "nbconvert_exporter": "python",
   "pygments_lexer": "ipython3",
   "version": "3.5.0"
  }
 },
 "nbformat": 4,
 "nbformat_minor": 0
}
